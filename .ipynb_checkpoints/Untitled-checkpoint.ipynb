{
 "cells": [
  {
   "cell_type": "code",
   "execution_count": null,
   "id": "5f4fb1ed",
   "metadata": {},
   "outputs": [],
   "source": [
    "import torch\n",
    "import numpy as np\n",
    "from data.my_dataset import MyDataset\n",
    "from torch.utils.data import DataLoader\n",
    "import matplotlib.pyplot as plt\n",
    "from drawingtest import Drawing\n",
    "from models.network import Digit_Classifier\n"
   ]
  },
  {
   "cell_type": "code",
   "execution_count": null,
   "id": "e8eeab93",
   "metadata": {},
   "outputs": [],
   "source": [
    "# Now let's try to draw your own digit and test the handwritten digit classifier!\n",
    "\n",
    "# Draw a number using GUI and mouse, transfer the image to the format of MNIST dataset.\n",
    "writtenImage = Drawing()\n",
    "plt.imshow(writtenImage)\n",
    "plt.show()\n",
    "writtenImage = np.reshape(writtenImage, (1, writtenImage.shape[0] * writtenImage.shape[0]))\n",
    "writtenTarget = np.array([0])\n",
    "writtenDataset = MyDataset(writtenImage, writtenTarget)\n",
    "writtenLoader = DataLoader(writtenDataset, batch_size=1, shuffle=False)\n",
    "\n"
   ]
  },
  {
   "cell_type": "code",
   "execution_count": null,
   "id": "44aa1d2f",
   "metadata": {},
   "outputs": [],
   "source": [
    "# Load trained nn classifier\n",
    "train_model = Digit_Classifier()\n",
    "train_model.load_state_dict(torch.load(\"train_nn.pt\"))\n",
    "train_model.eval()\n",
    "for step, (data, target) in enumerate(writtenLoader):\n",
    "    output = train_model(data.float())\n",
    "    predicted = torch.max(output, 1)[1].data.numpy().squeeze()\n",
    "print(\"You are writing number \", predicted)"
   ]
  }
 ],
 "metadata": {
  "kernelspec": {
   "display_name": "Python 3 (ipykernel)",
   "language": "python",
   "name": "python3"
  },
  "language_info": {
   "codemirror_mode": {
    "name": "ipython",
    "version": 3
   },
   "file_extension": ".py",
   "mimetype": "text/x-python",
   "name": "python",
   "nbconvert_exporter": "python",
   "pygments_lexer": "ipython3",
   "version": "3.7.10"
  }
 },
 "nbformat": 4,
 "nbformat_minor": 5
}
